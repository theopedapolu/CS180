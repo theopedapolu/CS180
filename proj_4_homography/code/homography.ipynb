{
 "cells": [
  {
   "cell_type": "markdown",
   "id": "680ca319-a6ea-473a-9779-79104e2c03ae",
   "metadata": {},
   "source": [
    "# Image Warping and Mosaicing - Project 4 Part A"
   ]
  },
  {
   "cell_type": "code",
   "execution_count": null,
   "id": "fb947e65-3c1b-4be9-9d68-df30475fe7f7",
   "metadata": {},
   "outputs": [],
   "source": [
    "# Import necessary modules\n",
    "import os\n",
    "import numpy as np\n",
    "import scipy as sp\n",
    "import matplotlib.pyplot as plt\n",
    "import skimage as sk\n",
    "import skimage.io as skio\n",
    "import cv2"
   ]
  },
  {
   "cell_type": "markdown",
   "id": "75f1964e-44ee-4165-a008-68cefcd0e8e3",
   "metadata": {},
   "source": [
    "## Part 1 - Shoot the Pictures"
   ]
  },
  {
   "cell_type": "code",
   "execution_count": null,
   "id": "6249698a-f8b4-426e-8cc1-d333086656de",
   "metadata": {},
   "outputs": [],
   "source": [
    "# Load and display pictures I took\n",
    "vlsb_left = sk.img_as_float(skio.imread(\"vlsb_left.jpg\"))\n",
    "vlsb_middle = sk.img_as_float(skio.imread(\"vlsb_middle.jpg\"))\n",
    "fig,axes = plt.subplots(1,2)\n",
    "axes[0].imshow(vlsb_left)\n",
    "axes[1].imshow(vlsb_middle)"
   ]
  },
  {
   "cell_type": "code",
   "execution_count": null,
   "id": "6b2b423f-688c-4084-bd01-1185a137890d",
   "metadata": {},
   "outputs": [],
   "source": [
    "vlsb_left_pts = np.array([[161, 459],\n",
    "                         [174, 579],\n",
    "                         [205, 457],\n",
    "                         [215, 579],\n",
    "                         [210, 520],\n",
    "                         [165, 520]])\n",
    "vlsb_middle_pts = np.array([[126, 375],\n",
    "                            [123, 506],\n",
    "                            [168, 373],\n",
    "                            [167, 508],\n",
    "                            [167, 440],\n",
    "                            [123, 440]])"
   ]
  },
  {
   "cell_type": "markdown",
   "id": "9ba7dca5-31b8-4a92-8ee7-8a6c04b6fef3",
   "metadata": {},
   "source": [
    "## Part 2 - Recover Homographies"
   ]
  },
  {
   "cell_type": "code",
   "execution_count": null,
   "id": "79201972-15c1-4ae6-b8d2-02012682d4b6",
   "metadata": {},
   "outputs": [],
   "source": [
    "def computeH(im1_pts, im2_pts):\n",
    "    # Convert (kinda) input vectors (assumed to be column vectors)\n",
    "    num_points = im1_pts.shape[0]\n",
    "    A = np.zeros((num_points*2,8))\n",
    "    for i in range(num_points):\n",
    "        x1,y1 = im1_pts[i]\n",
    "        x2,y2 = im2_pts[i]\n",
    "        A[2*i] = [x1,y1,1,0,0,0,-x1*x2,-y1*x2]\n",
    "        A[2*i+1] = [0,0,0,x1,y1,1,-x1*y2,-y1*y2]\n",
    "    b = np.ravel(im2_pts, order = 'C')\n",
    "    h = np.linalg.lstsq(A, b, rcond=None)[0]\n",
    "    h = np.append(h,[1])\n",
    "    return np.reshape(h, (3,3))"
   ]
  },
  {
   "cell_type": "markdown",
   "id": "9c18c831-561a-4aab-a892-b5439c173ead",
   "metadata": {},
   "source": [
    "## Part 3 - Warp Images"
   ]
  },
  {
   "cell_type": "code",
   "execution_count": null,
   "id": "2a0e99de-a57d-4ac1-8ef2-b1d63691618e",
   "metadata": {},
   "outputs": [],
   "source": [
    "def getMaxSize(size, H):\n",
    "    height, width, _ = size\n",
    "    corners = [(0,0,1),(height-1,0,1),(0,width-1,1),(height-1,width-1,1)]\n",
    "    x_max, y_max = -1,-1\n",
    "    for c in corners:\n",
    "        new_c = H @ c\n",
    "        x_max = int(max(x_max, np.ceil(new_c[0]/new_c[2])))\n",
    "        y_max = int(max(y_max, np.ceil(new_c[1]/new_c[2])))\n",
    "    return (x_max+1,y_max+1)     "
   ]
  },
  {
   "cell_type": "code",
   "execution_count": null,
   "id": "23fbf9cd-0903-4d84-bc2e-e2a275f2d380",
   "metadata": {},
   "outputs": [],
   "source": [
    "def warpImage(im, H):\n",
    "    max_size = getMaxSize(im.shape, H)\n",
    "    # Warp image\n",
    "    H_inv = np.linalg.inv(H)\n",
    "    src_pts = np.array(list(np.ndindex(im.shape[:-1])))\n",
    "    dst_pts = np.array(list(np.ndindex(max_size)))\n",
    "    # Transform dst_point set\n",
    "    transform_pts = (H_inv @ np.vstack([dst_pts.T,np.ones((1,dst_pts.shape[0]))])).T\n",
    "    transform_pts = transform_pts[:,:2] / transform_pts[:,2].reshape(-1,1)\n",
    "    values = np.array(list(zip(im[:,:,0].flatten(),im[:,:,1].flatten(),im[:,:,2].flatten())))\n",
    "    #values = np.array(list(zip(im[:,:,0].flatten(),im[:,:,1].flatten(),im[:,:,2].flatten(),im[:,:,3].flatten())))\n",
    "    # Interpolate\n",
    "    interp = sp.interpolate.griddata(src_pts, values, transform_pts, method='linear', fill_value = 0)\n",
    "    warped_im = np.reshape(interp,(max_size[0],max_size[1],3))\n",
    "    return warped_im"
   ]
  },
  {
   "cell_type": "code",
   "execution_count": null,
   "id": "2d3e41f9-b553-41b0-b073-b71fa7dbe07c",
   "metadata": {},
   "outputs": [],
   "source": [
    "vlsb_left_H = computeH(vlsb_left_pts, vlsb_middle_pts)\n",
    "warped_vlsb_left = warpImage(vlsb_left, vlsb_left_H)\n",
    "plt.imshow(warped_vlsb_left)"
   ]
  },
  {
   "cell_type": "code",
   "execution_count": null,
   "id": "5e994302-c7de-429e-bdee-53ae30d928e7",
   "metadata": {},
   "outputs": [],
   "source": [
    "skio.imsave(\"warped_vlsb_left.jpg\", sk.img_as_ubyte(warped_vlsb_left))"
   ]
  },
  {
   "cell_type": "markdown",
   "id": "743593a1-3422-408f-9d62-10b3e44b5c97",
   "metadata": {},
   "source": [
    "## Part 4 - Image Rectification"
   ]
  },
  {
   "cell_type": "code",
   "execution_count": null,
   "id": "dd234c6b-685c-4425-9a05-76ccc3c937b4",
   "metadata": {},
   "outputs": [],
   "source": [
    "# Load Book image\n",
    "book = sk.img_as_float(skio.imread(\"book.jpg\"))\n",
    "plt.imshow(book)"
   ]
  },
  {
   "cell_type": "code",
   "execution_count": null,
   "id": "336a194b-e746-4251-9a58-cf83a4d6f575",
   "metadata": {},
   "outputs": [],
   "source": [
    "book_down_pts = np.array([[ 156,  481],\n",
    " [ 146,  886],\n",
    " [ 619,  316],\n",
    " [ 619, 1136]])\n",
    "\n",
    "\n",
    "book_front_pts = np.array([[92,  452],\n",
    " [92,1116],\n",
    " [830,452],\n",
    " [830, 1116]])"
   ]
  },
  {
   "cell_type": "code",
   "execution_count": null,
   "id": "5906b203-fb1e-4ead-b268-d233d9837fa8",
   "metadata": {},
   "outputs": [],
   "source": [
    "plt.imshow(book)\n",
    "plt.plot(book_down_pts[:,1],book_down_pts[:,0],'ro')"
   ]
  },
  {
   "cell_type": "code",
   "execution_count": null,
   "id": "17fc1627-3a9f-43af-a218-4a232ccf6525",
   "metadata": {},
   "outputs": [],
   "source": [
    "plt.imshow(book)\n",
    "plt.plot(book_front_pts[:,1],book_front_pts[:,0],'ro')"
   ]
  },
  {
   "cell_type": "code",
   "execution_count": null,
   "id": "ced65e32-c578-4906-a8ad-da7b349c4a1d",
   "metadata": {},
   "outputs": [],
   "source": [
    "book_H_mat = computeH(book_down_pts,book_front_pts)\n",
    "warped_book = warpImage(book, book_H_mat)\n",
    "plt.imshow(warped_book)"
   ]
  },
  {
   "cell_type": "code",
   "execution_count": null,
   "id": "05248f44-5960-41f6-ae6e-5b21815f45be",
   "metadata": {},
   "outputs": [],
   "source": [
    "skio.imsave(\"book_front.jpg\",sk.img_as_ubyte(warped_book))"
   ]
  },
  {
   "cell_type": "code",
   "execution_count": null,
   "id": "20b515e7-1e72-4b3f-8f39-cb113da82935",
   "metadata": {},
   "outputs": [],
   "source": [
    "book_cropped = warped_book[book_front_pts[0,0]:book_front_pts[3,0],book_front_pts[0,1]:book_front_pts[3,1],:]\n",
    "plt.imshow(book_cropped)\n",
    "skio.imsave(\"book_front_cropped.jpg\", sk.img_as_ubyte(book_cropped))"
   ]
  },
  {
   "cell_type": "code",
   "execution_count": null,
   "id": "ff782a06-ca5a-440a-aef0-6a9a3305562f",
   "metadata": {},
   "outputs": [],
   "source": [
    "# Load painting image\n",
    "painting = sk.img_as_float(skio.imread(\"painting.jpg\"))\n",
    "plt.imshow(painting)"
   ]
  },
  {
   "cell_type": "code",
   "execution_count": null,
   "id": "cb45e931-260b-49f7-87e6-ee8bdc69c74d",
   "metadata": {},
   "outputs": [],
   "source": [
    "painting_right_pts = np.array([[308, 639],\n",
    " [ 43, 958],\n",
    " [668, 625],\n",
    " [797, 978]])\n",
    "\n",
    "painting_front_pts = np.array([[325,  456],\n",
    " [325, 1136],\n",
    " [793, 456],\n",
    " [ 793, 1136]])"
   ]
  },
  {
   "cell_type": "code",
   "execution_count": null,
   "id": "49e063c9-a47f-4911-8ffa-0246a805c518",
   "metadata": {},
   "outputs": [],
   "source": [
    "plt.imshow(painting)\n",
    "plt.plot(painting_right_pts[:,1],painting_right_pts[:,0],'ro')"
   ]
  },
  {
   "cell_type": "code",
   "execution_count": null,
   "id": "c7535047-165e-4825-a1d6-823fa18c8a51",
   "metadata": {},
   "outputs": [],
   "source": [
    "plt.imshow(painting)\n",
    "plt.plot(painting_front_pts[:,1],painting_front_pts[:,0],'ro')"
   ]
  },
  {
   "cell_type": "code",
   "execution_count": null,
   "id": "ffa3a76a-6a46-44fa-a796-ae7c674fe709",
   "metadata": {},
   "outputs": [],
   "source": [
    "painting_H_mat = computeH(painting_right_pts,painting_front_pts)\n",
    "warped_painting = warpImage(painting, painting_H_mat)\n",
    "plt.imshow(warped_painting)"
   ]
  },
  {
   "cell_type": "code",
   "execution_count": null,
   "id": "635e5c2f-fbe6-4fae-bb4a-bea59346abbe",
   "metadata": {},
   "outputs": [],
   "source": [
    "skio.imsave(\"painting_front.jpg\",sk.img_as_ubyte(warped_painting))"
   ]
  },
  {
   "cell_type": "code",
   "execution_count": null,
   "id": "297e78e3-3e67-473d-a6c8-202ab55b422c",
   "metadata": {},
   "outputs": [],
   "source": [
    "painting_cropped = warped_painting[painting_front_pts[0,0]:painting_front_pts[3,0],painting_front_pts[0,1]:painting_front_pts[3,1],:]\n",
    "plt.imshow(painting_cropped)\n",
    "skio.imsave(\"painting_front_cropped.jpg\", sk.img_as_ubyte(painting_cropped))"
   ]
  },
  {
   "cell_type": "markdown",
   "id": "14a8f035-e1b7-4acd-9d83-54375ff60b6f",
   "metadata": {},
   "source": [
    "## Part 5 - Mosaic"
   ]
  },
  {
   "cell_type": "code",
   "execution_count": null,
   "id": "c5943605-484c-4e59-826c-3f4cdcce8301",
   "metadata": {},
   "outputs": [],
   "source": [
    "# Laplacian blending functions from project 2\n",
    "def gaussian_stack(image):\n",
    "    g_stack = [image]\n",
    "    for depth in range(2):\n",
    "        G = cv2.getGaussianKernel(50, 2**depth)\n",
    "        gaussian_kernel = G @ G.T\n",
    "        channels = []\n",
    "        for i in range(3):\n",
    "            channel = image[:,:,i]\n",
    "            blurred_channel = sp.signal.convolve2d(channel, gaussian_kernel, boundary=\"symm\", mode=\"same\")\n",
    "            channels.append(blurred_channel)\n",
    "        image = np.dstack(channels)\n",
    "        g_stack.append(image)\n",
    "    return g_stack\n",
    "\n",
    "def laplacian_stack(image):\n",
    "    g_stack = gaussian_stack(image)\n",
    "    lp_stack = []\n",
    "    for i in range(len(g_stack)-1):\n",
    "        lp_level = g_stack[i] - g_stack[i+1]\n",
    "        lp_stack.append(lp_level)\n",
    "    lp_stack.append(g_stack[-1])  \n",
    "    return lp_stack\n",
    "\n",
    "def blend_images(imageA, imageB, mask):\n",
    "    lp_A = laplacian_stack(imageA)\n",
    "    lp_B = laplacian_stack(imageB)\n",
    "    g_stack_mask = gaussian_stack(mask)\n",
    "    collapse = np.zeros(lp_A[0].shape)\n",
    "    for i in range(len(g_stack_mask)):\n",
    "        level_A = lp_A[i]\n",
    "        level_B = lp_B[i]\n",
    "        level_mask = g_stack_mask[i]\n",
    "        new_image = level_mask*level_A + (1-level_mask)*level_B\n",
    "        collapse = collapse + new_image\n",
    "    return collapse"
   ]
  },
  {
   "cell_type": "code",
   "execution_count": null,
   "id": "215acbec-ff87-4e06-84de-f7360b1ec495",
   "metadata": {},
   "outputs": [],
   "source": [
    "def gaussian_stitch(im1,im2):\n",
    "    overlap_mask = np.any((im1 != 0), axis = 2) & np.any(im2 != 0, axis = 2)\n",
    "    overlap_cols = np.where(np.any(overlap_mask,axis=0))[0]\n",
    "    gradient = np.linspace(1,0,num = overlap_cols.shape[0])\n",
    "    overlap_gradient = np.zeros(im1.shape)\n",
    "    \n",
    "    # Create overlap gradient mask\n",
    "    for col,val in zip(overlap_cols,gradient):\n",
    "        overlap_gradient[overlap_mask[:,col],col,:] = val\n",
    "   \n",
    "    # Create im1 mask\n",
    "    im1_mask = np.any(im1 != 0, axis = 2)\n",
    "    im1_mask_gradient = np.zeros(im1.shape)\n",
    "    im1_mask_gradient[im1_mask,:] = 1\n",
    "    im1_mask_gradient[overlap_mask] = overlap_gradient[overlap_mask]\n",
    "\n",
    "    # Create im2 mask\n",
    "    im2_mask = np.any(im2 != 0, axis = 2)\n",
    "    im2_mask_gradient = np.zeros(im2.shape)\n",
    "    im2_mask_gradient[im2_mask,:] = 1\n",
    "    im2_mask_gradient[overlap_mask] = 1-overlap_gradient[overlap_mask]\n",
    "\n",
    "    # Stitch images\n",
    "    stitched_im = im1*im1_mask_gradient + im2*im2_mask_gradient\n",
    "\n",
    "    return np.clip(stitched_im,0,1)\n",
    "    \n",
    "\n",
    "def blend_mosaic(images, images_pts):\n",
    "    # Warp each image onto the first one\n",
    "    ref_im = images[0]\n",
    "    ref_im_pts = images_pts[0]\n",
    "    warped_images = [ref_im]\n",
    "    for i in range(1,len(images)):\n",
    "        im = images[i]\n",
    "        im_pts = images_pts[i]\n",
    "        H_im = computeH(im_pts, ref_im_pts)\n",
    "        warped_im = warpImage(im, H_im)\n",
    "        warped_images.append(warped_im)\n",
    "\n",
    "    # Project each image onto larger mosaic plane\n",
    "    size_x = max([im.shape[0] for im in warped_images])\n",
    "    size_y = max([im.shape[1] for im in warped_images])\n",
    "    mosaic_ims = []\n",
    "    for im in warped_images:\n",
    "        projected_im = np.zeros((size_x,size_y,3))\n",
    "        projected_im[:im.shape[0],:im.shape[1],:] = im\n",
    "        mosaic_ims.append(projected_im)\n",
    "\n",
    "    # Stitch images\n",
    "    final_mosaic = mosaic_ims[0]\n",
    "    for i in range(1,len(mosaic_ims)):\n",
    "        final_mosaic = gaussian_stitch(final_mosaic, mosaic_ims[i])\n",
    "        \n",
    "    return final_mosaic\n",
    "\n",
    "\n",
    "    "
   ]
  },
  {
   "cell_type": "code",
   "execution_count": null,
   "id": "c5ae8cd5-5fb2-40f0-98c6-0293e4903441",
   "metadata": {},
   "outputs": [],
   "source": [
    "# Load images of park\n",
    "park_left = sk.img_as_float(skio.imread(\"park_left.jpg\"))\n",
    "park_middle = sk.img_as_float(skio.imread(\"park_middle.jpg\"))\n",
    "park_right = sk.img_as_float(skio.imread(\"park_right.jpg\"))\n",
    "fig,axes = plt.subplots(1,3)\n",
    "axes[0].imshow(park_left)\n",
    "axes[1].imshow(park_middle)\n",
    "axes[2].imshow(park_right)"
   ]
  },
  {
   "cell_type": "code",
   "execution_count": null,
   "id": "373c2700-c0c1-4434-a0cd-5d5eeb9cea55",
   "metadata": {},
   "outputs": [],
   "source": [
    "# Mosaic of park\n",
    "park_left_pts = np.array([[ 310,  945],\n",
    " [ 432,  958],\n",
    " [ 561, 1032],\n",
    " [ 601, 1087],\n",
    " [ 532, 1126],\n",
    " [ 467, 1135],\n",
    " [ 412, 1185]])\n",
    "\n",
    "park_middle_pts = np.array([[299, 475],\n",
    " [417, 485],\n",
    " [548, 556],\n",
    " [583, 598],\n",
    " [523, 633],\n",
    " [462, 642],\n",
    " [415, 680]])\n",
    "\n",
    "park_right_pts = np.array([[295, 22],\n",
    " [391, 36],\n",
    " [545, 125],\n",
    " [575, 177],\n",
    " [512, 222],\n",
    " [444, 235],\n",
    " [393, 280]])"
   ]
  },
  {
   "cell_type": "code",
   "execution_count": null,
   "id": "2a551ce5-5791-4cce-bbd0-d4ae67c2b852",
   "metadata": {},
   "outputs": [],
   "source": [
    "park_ims = [park_left,park_middle,park_right]\n",
    "park_pts = [park_left_pts,park_middle_pts,park_right_pts]\n",
    "park_mosaic = blend_mosaic(park_ims,park_pts)"
   ]
  },
  {
   "cell_type": "code",
   "execution_count": null,
   "id": "2ab611fc-bf07-4845-9e11-d90eb87c1a7e",
   "metadata": {},
   "outputs": [],
   "source": [
    "plt.imshow(park_mosaic)"
   ]
  },
  {
   "cell_type": "code",
   "execution_count": null,
   "id": "662dfbf6-ad53-42bb-bbe3-3a49635bc4c6",
   "metadata": {},
   "outputs": [],
   "source": [
    "# Load DL images\n",
    "DL_left = sk.img_as_float(skio.imread(\"images/DL_left.jpg\"))\n",
    "DL_right = sk.img_as_float(skio.imread(\"images/DL_right.jpg\"))\n",
    "fig,axes = plt.subplots(1,2)\n",
    "axes[0].imshow(DL_left)\n",
    "axes[1].imshow(DL_right)"
   ]
  },
  {
   "cell_type": "code",
   "execution_count": null,
   "id": "66ced033-7131-4f3d-b988-558b4e89d02b",
   "metadata": {},
   "outputs": [],
   "source": [
    "DL_left_pts = np.array([[ 249,  561],\n",
    " [ 506,  577],\n",
    " [ 123,  881],\n",
    " [ 115,  929],\n",
    " [ 168,  881],\n",
    " [ 156,  931],\n",
    " [ 388, 1062],\n",
    " [ 349, 1066],\n",
    " [ 744, 1038],\n",
    " [ 452, 1142],\n",
    " [ 584, 1130],\n",
    " [ 697, 1110]])\n",
    "\n",
    "\n",
    "DL_right_pts = np.array([[244,  33],\n",
    " [544,  76],\n",
    " [136, 384],\n",
    " [131, 429],\n",
    " [171, 384],\n",
    " [171, 436],\n",
    " [392, 565],\n",
    " [355, 563],\n",
    " [707, 575],\n",
    " [442, 627],\n",
    " [563, 633],\n",
    " [658, 621]])"
   ]
  },
  {
   "cell_type": "code",
   "execution_count": null,
   "id": "0db50768-71dc-40b9-a77d-b5552ee33942",
   "metadata": {},
   "outputs": [],
   "source": [
    "plt.imshow(DL_left)\n",
    "plt.plot(DL_left_pts[:,1],DL_left_pts[:,0],'ro')"
   ]
  },
  {
   "cell_type": "code",
   "execution_count": null,
   "id": "7295666f-3a6c-468b-869a-6c17c155dc71",
   "metadata": {},
   "outputs": [],
   "source": [
    "plt.imshow(DL_right)\n",
    "plt.plot(DL_right_pts[:,1],DL_right_pts[:,0],'ro')"
   ]
  },
  {
   "cell_type": "code",
   "execution_count": null,
   "id": "58aea5f6-3b81-4c89-a6f0-b2bd3d98e108",
   "metadata": {},
   "outputs": [],
   "source": [
    "DL_mosaic = blend_mosaic([DL_left, DL_right], [DL_left_pts, DL_right_pts])"
   ]
  },
  {
   "cell_type": "code",
   "execution_count": null,
   "id": "517889ad-2364-4ed0-b191-a10d71e44655",
   "metadata": {},
   "outputs": [],
   "source": [
    "plt.imshow(DL_mosaic)\n",
    "skio.imsave(\"DL_mosaic.jpg\", sk.img_as_ubyte(DL_mosaic))"
   ]
  },
  {
   "cell_type": "code",
   "execution_count": null,
   "id": "76780102-9f24-48ea-94b7-6ed2bc2ad516",
   "metadata": {},
   "outputs": [],
   "source": [
    "# Load Campanile Images\n",
    "campanile_left = sk.img_as_float(skio.imread(\"images/campanile_left.jpg\"))\n",
    "campanile_middle = sk.img_as_float(skio.imread(\"images/campanile_middle.jpg\"))\n",
    "fig,axes = plt.subplots(1,2)\n",
    "axes[0].imshow(campanile_left)\n",
    "axes[1].imshow(campanile_middle)"
   ]
  },
  {
   "cell_type": "code",
   "execution_count": null,
   "id": "1e0044ec-893f-466b-bc67-8ce4a524ada9",
   "metadata": {},
   "outputs": [],
   "source": [
    "campanile_left_pts = np.array([[  53,  976],\n",
    " [ 138,  943],\n",
    " [ 179,  934],\n",
    " [ 248,  938],\n",
    " [ 272,  964],\n",
    " [ 278, 1009],\n",
    " [ 245, 1022],\n",
    " [ 182, 1023],\n",
    " [ 139, 1012],\n",
    " [ 130,  984],\n",
    " [ 526, 1054],\n",
    " [ 655,  965],\n",
    " [ 657, 1032],\n",
    " [ 657, 1098],\n",
    " [ 544,  938],\n",
    " [ 545,  978]])\n",
    "\n",
    "\n",
    "campanile_middle_pts = np.array([[ 92, 590],\n",
    " [166, 555],\n",
    " [210, 545],\n",
    " [275, 544],\n",
    " [299, 571],\n",
    " [307, 613],\n",
    " [278, 629],\n",
    " [212, 629],\n",
    " [171, 623],\n",
    " [163, 593],\n",
    " [549, 652],\n",
    " [676, 562],\n",
    " [677, 625],\n",
    " [679, 694],\n",
    " [568, 541],\n",
    " [565, 579]])"
   ]
  },
  {
   "cell_type": "code",
   "execution_count": null,
   "id": "b427d321-2594-44c5-937f-445b288139a4",
   "metadata": {},
   "outputs": [],
   "source": [
    "plt.imshow(campanile_left)\n",
    "plt.plot(campanile_left_pts[:,1],campanile_left_pts[:,0],'ro')\n",
    "# for i in range(campanile_left_pts.shape[0]):\n",
    "#     plt.annotate(i,(campanile_left_pts[:,1][i],campanile_left_pts[:,0][i]))"
   ]
  },
  {
   "cell_type": "code",
   "execution_count": null,
   "id": "65ebccd0-0453-4a38-b0d9-0169d9b6f33e",
   "metadata": {},
   "outputs": [],
   "source": [
    "plt.imshow(campanile_middle)\n",
    "plt.plot(campanile_middle_pts[:,1],campanile_middle_pts[:,0],'ro')\n",
    "# for i in range(campanile_middle_pts.shape[0]):\n",
    "#     plt.annotate(i,(campanile_middle_pts[:,1][i],campanile_middle_pts[:,0][i]))"
   ]
  },
  {
   "cell_type": "code",
   "execution_count": null,
   "id": "b474958a-4f5c-4f5d-9e14-b84815002ed7",
   "metadata": {},
   "outputs": [],
   "source": [
    "campanile_mosaic = blend_mosaic([campanile_left, campanile_middle],[campanile_left_pts, campanile_middle_pts])\n",
    "plt.imshow(campanile_mosaic)"
   ]
  },
  {
   "cell_type": "code",
   "execution_count": null,
   "id": "34538347-498c-4e17-a2ea-a669233e25ee",
   "metadata": {},
   "outputs": [],
   "source": [
    "skio.imsave(\"campanile_mosaic.jpg\", sk.img_as_ubyte(campanile_mosaic))"
   ]
  },
  {
   "cell_type": "code",
   "execution_count": null,
   "id": "a75bc72c-f709-4660-ac06-72929e73873d",
   "metadata": {},
   "outputs": [],
   "source": [
    "# Do mosaic of Sproul images\n",
    "sproul_left = sk.img_as_float(skio.imread(\"images/sproul_left.jpg\"))\n",
    "sproul_right = sk.img_as_float(skio.imread(\"images/sproul_right.jpg\"))"
   ]
  },
  {
   "cell_type": "code",
   "execution_count": null,
   "id": "3dc5a9fa-5636-4443-b774-0bffe5aa6e3f",
   "metadata": {},
   "outputs": [],
   "source": [
    "plt.imshow(sproul_left)"
   ]
  },
  {
   "cell_type": "code",
   "execution_count": null,
   "id": "15a24a81-bb01-4b9c-a352-a7162dcdd1d8",
   "metadata": {},
   "outputs": [],
   "source": [
    "plt.imshow(sproul_right)"
   ]
  },
  {
   "cell_type": "code",
   "execution_count": null,
   "id": "0eb9ee13-af94-4157-9824-2c3209113dbe",
   "metadata": {},
   "outputs": [],
   "source": [
    "sproul_left_pts = np.array([[ 195,  681],\n",
    " [ 288,  682],\n",
    " [ 398,  656],\n",
    " [ 521,  676],\n",
    " [ 293,  763],\n",
    " [ 390,  708],\n",
    " [ 515,  763],\n",
    " [ 639,  832],\n",
    " [ 642,  914],\n",
    " [ 641, 1046],\n",
    " [ 545,  943],\n",
    " [ 634,  943],\n",
    " [ 337, 1067],\n",
    " [  84,  779],\n",
    " [ 396,  860],\n",
    " [ 502, 1080]])\n",
    "\n",
    "sproul_right_pts = np.array([[146, 127],\n",
    " [255, 131],\n",
    " [375, 100],\n",
    " [516, 129],\n",
    " [266, 230],\n",
    " [372, 166],\n",
    " [506, 236],\n",
    " [626, 309],\n",
    " [619, 393],\n",
    " [602, 510],\n",
    " [524, 420],\n",
    " [608, 418],\n",
    " [338, 523],\n",
    " [ 47, 246],\n",
    " [381, 339],\n",
    " [475, 535]])"
   ]
  },
  {
   "cell_type": "code",
   "execution_count": null,
   "id": "af4825dc-0285-48f6-a123-3a2a4e98679d",
   "metadata": {},
   "outputs": [],
   "source": [
    "plt.imshow(sproul_left)\n",
    "plt.plot(sproul_left_pts[:,1],sproul_left_pts[:,0],'ro')\n",
    "# for i in range(sproul_left_pts.shape[0]):\n",
    "#     plt.annotate(i,(sproul_left_pts[:,1][i],sproul_left_pts[:,0][i]))"
   ]
  },
  {
   "cell_type": "code",
   "execution_count": null,
   "id": "01916dce-4647-4902-87fe-9716cc3fe4f9",
   "metadata": {},
   "outputs": [],
   "source": [
    "plt.imshow(sproul_right)\n",
    "plt.plot(sproul_right_pts[:,1],sproul_right_pts[:,0],'ro')\n",
    "# for i in range(sproul_right_pts.shape[0]):\n",
    "#     plt.annotate(i,(sproul_right_pts[:,1][i],sproul_right_pts[:,0][i]))"
   ]
  },
  {
   "cell_type": "code",
   "execution_count": null,
   "id": "6b61e48c-629b-45d8-8ff8-7a6c3f0f4423",
   "metadata": {},
   "outputs": [],
   "source": [
    "sproul_mosaic = blend_mosaic([sproul_left, sproul_right], [sproul_left_pts, sproul_right_pts])\n",
    "plt.imshow(sproul_mosaic)"
   ]
  },
  {
   "cell_type": "code",
   "execution_count": null,
   "id": "93d2bb8b-98a9-4bee-95d0-359f0e632b70",
   "metadata": {},
   "outputs": [],
   "source": [
    "skio.imsave(\"sproul_mosaic.jpg\", sk.img_as_ubyte(sproul_mosaic))"
   ]
  },
  {
   "cell_type": "markdown",
   "id": "e3273b99-9ef0-4b10-ac38-c7c67f0b766a",
   "metadata": {},
   "source": [
    "# Feature Matching for Autostitching - Part B"
   ]
  },
  {
   "cell_type": "code",
   "execution_count": null,
   "id": "1b5a87fb-6450-45b8-8f3f-673cc5547aeb",
   "metadata": {},
   "outputs": [],
   "source": [
    "import os\n",
    "import numpy as np\n",
    "import scipy as sp\n",
    "import matplotlib.pyplot as plt\n",
    "import skimage as sk\n",
    "import skimage.io as skio\n",
    "import cv2\n",
    "from skimage.feature import corner_harris, peak_local_max"
   ]
  },
  {
   "cell_type": "code",
   "execution_count": null,
   "id": "ebf4dd0a-a4f9-40bb-bf78-10d2d466fc27",
   "metadata": {},
   "outputs": [],
   "source": [
    "def get_harris_corners(im, edge_discard=20):\n",
    "    \"\"\"\n",
    "    This function takes a b&w image and an optional amount to discard\n",
    "    on the edge (default is 5 pixels), and finds all harris corners\n",
    "    in the image. Harris corners near the edge are discarded and the\n",
    "    coordinates of the remaining corners are returned. A 2d array (h)\n",
    "    containing the h value of every pixel is also returned.\n",
    "\n",
    "    h is the same shape as the original image, im.\n",
    "    coords is 2 x n (ys, xs).\n",
    "    \"\"\"\n",
    "\n",
    "    assert edge_discard >= 20\n",
    "\n",
    "    # find harris corners\n",
    "    h = corner_harris(im, method='eps', sigma=5)\n",
    "    coords = peak_local_max(h, min_distance=1, threshold_abs = 10/256)\n",
    "\n",
    "    # discard points on edge\n",
    "    edge = edge_discard  # pixels\n",
    "    mask = (coords[:, 0] > edge) & \\\n",
    "           (coords[:, 0] < im.shape[0] - edge) & \\\n",
    "           (coords[:, 1] > edge) & \\\n",
    "           (coords[:, 1] < im.shape[1] - edge)\n",
    "    coords = coords[mask].T\n",
    "    return h, coords\n",
    "\n",
    "\n",
    "def dist2(x, c):\n",
    "    \"\"\"\n",
    "    dist2  Calculates squared distance between two sets of points.\n",
    "\n",
    "    Description\n",
    "    D = DIST2(X, C) takes two matrices of vectors and calculates the\n",
    "    squared Euclidean distance between them.  Both matrices must be of\n",
    "    the same column dimension.  If X has M rows and N columns, and C has\n",
    "    L rows and N columns, then the result has M rows and L columns.  The\n",
    "    I, Jth entry is the  squared distance from the Ith row of X to the\n",
    "    Jth row of C.\n",
    "\n",
    "    Adapted from code by Christopher M Bishop and Ian T Nabney.\n",
    "    \"\"\"\n",
    "    \n",
    "    ndata, dimx = x.shape\n",
    "    ncenters, dimc = c.shape\n",
    "    assert(dimx == dimc, 'Data dimension does not match dimension of centers')\n",
    "\n",
    "    return (np.ones((ncenters, 1)) * np.sum((x**2).T, axis=0)).T + \\\n",
    "            np.ones((   ndata, 1)) * np.sum((c**2).T, axis=0)    - \\\n",
    "            2 * np.inner(x, c)\n"
   ]
  },
  {
   "cell_type": "code",
   "execution_count": null,
   "id": "28b6e8a0-2185-4f7e-8ebd-ed311db40572",
   "metadata": {},
   "outputs": [],
   "source": [
    "campanile_middle = sk.img_as_float(skio.imread(\"images/campanile_left.jpg\"))\n",
    "plt.imshow(campanile_middle)"
   ]
  },
  {
   "cell_type": "code",
   "execution_count": null,
   "id": "7b3d1e92-213f-484f-a0d8-4cc98cd5d3bc",
   "metadata": {},
   "outputs": [],
   "source": [
    "H_campanile, coords_campanile = get_harris_corners(campanile_middle[:,:,0])"
   ]
  },
  {
   "cell_type": "code",
   "execution_count": null,
   "id": "dc5423ba-7827-42b3-80d2-10ec74074e90",
   "metadata": {},
   "outputs": [],
   "source": [
    "plt.imshow(campanile_middle)\n",
    "plt.plot(coords_campanile[1,:], coords_campanile[0,:],'ro')"
   ]
  },
  {
   "cell_type": "code",
   "execution_count": null,
   "id": "0f798847-ac8f-4824-abcc-912ae6af69d8",
   "metadata": {},
   "outputs": [],
   "source": [
    "def ANMS(H, coords):\n",
    "    c_robust = 0.9\n",
    "    num_pts = 100\n",
    "    pts_r_i = []\n",
    "    for x,y in coords.T:\n",
    "        # Compute r_i\n",
    "        window = H[x-3:x+3,y-3:y+3]\n",
    "        threshold_pts = np.argwhere(window < c_robust*H[x,y])\n",
    "        #print(dist2(np.array([[0,0]]),threshold_pts).shape)\n",
    "        r_i = np.min(dist2(np.array([[0,0]]),threshold_pts), initial=float('inf'))\n",
    "        pts_r_i.append([x,y,r_i])\n",
    "        \n",
    "    # Find num_pts points with highest r_i\n",
    "    sorted_pts_r_i = np.array(sorted(pts_r_i, key=lambda x:x[2]))\n",
    "    anms_pts = sorted_pts_r_i[:num_pts,:2]\n",
    "    return anms_pts.astype(int)"
   ]
  },
  {
   "cell_type": "code",
   "execution_count": null,
   "id": "189d22cb-8e7f-42c8-8db5-3db46337e178",
   "metadata": {},
   "outputs": [],
   "source": [
    "campanile_anms_pts = ANMS(H_campanile, coords_campanile)"
   ]
  },
  {
   "cell_type": "code",
   "execution_count": null,
   "id": "c4ecaf16-4a34-413e-96c9-5fb2957c8f51",
   "metadata": {},
   "outputs": [],
   "source": [
    "plt.imshow(campanile_middle)\n",
    "plt.plot(campanile_anms_pts[:,1], campanile_anms_pts[:,0],'ro')"
   ]
  },
  {
   "cell_type": "code",
   "execution_count": null,
   "id": "6907036b-6a17-4eea-bd66-9614c1d66ca0",
   "metadata": {},
   "outputs": [],
   "source": [
    "def extract_feature_patches(im, ft_pts):\n",
    "    patches = []\n",
    "    for x,y in ft_pts:\n",
    "        ft_patch =  im[x-20:x+20,y-20:y+20,:]\n",
    "        # Normalize and resize patch\n",
    "        ft_patch = (ft_patch - np.mean(ft_patch)) / np.std(ft_patch)\n",
    "        ft_patch = sk.transform.resize(ft_patch, (8,8,3))\n",
    "        patches.append([x,y, ft_patch])  \n",
    "    return patches   \n",
    "\n",
    "def matching_outlier_rejection(im1_patches, im2_patches):\n",
    "    threshold = 0.6\n",
    "    keep_im1_pts = []\n",
    "    keep_im2_pts = []\n",
    "    for i in range(len(im1_patches)):\n",
    "        one_nn = float('inf')\n",
    "        second_nn = float('inf')\n",
    "        best_j = -1\n",
    "        x1,y1,im1_patch = im1_patches[i]\n",
    "        for j in range(len(im2_patches)):\n",
    "            x2,y2,im2_patch = im2_patches[j]\n",
    "            ssd_val = np.sum(np.square(im1_patch - im2_patch))\n",
    "            if ssd_val < one_nn:\n",
    "                one_nn = ssd_val\n",
    "                best_j = j\n",
    "            elif ssd_val < second_nn:\n",
    "                second_nn = ssd_val \n",
    "                \n",
    "        # Keep if point is not an outlier by Lowe's Trick        \n",
    "        if one_nn/second_nn < threshold:\n",
    "            best_x2, best_y2, _ = im2_patches.pop(best_j)\n",
    "            keep_im1_pts.append([x1,y1])\n",
    "            keep_im2_pts.append([best_x2,best_y2])\n",
    "            \n",
    "    return np.array(keep_im1_pts), np.array(keep_im2_pts)                    "
   ]
  },
  {
   "cell_type": "code",
   "execution_count": null,
   "id": "018b8c7b-f9f5-4634-8d37-40cba7862234",
   "metadata": {},
   "outputs": [],
   "source": [
    "def RANSAC(im1_pts, im2_pts):\n",
    "    num_iterations = 1000\n",
    "    epsilon = 5\n",
    "    max_inliers = []\n",
    "    for _ in range(num_iterations):\n",
    "        # Pick random samples of 4 points from each image\n",
    "        pts_rand = np.random.choice(im1_pts.shape[0], size=4)\n",
    "        im1_sample = im1_pts[pts_rand,:]\n",
    "        im2_sample = im2_pts[pts_rand,:]\n",
    "        \n",
    "        # Compute homography\n",
    "        H = computeH(im1_sample, im2_sample)\n",
    "\n",
    "        # Count num inliers\n",
    "        im1_mapped_pts = H @ np.vstack([im1_pts.T, np.ones(im1_pts.shape[0])])\n",
    "        im1_mapped_pts = im1_mapped_pts.T[:,:2] / im1_mapped_pts.T[:,2].reshape(-1,1)\n",
    "        inliers = []\n",
    "        for i in range(im2_pts.shape[0]):\n",
    "            ssd_val = np.sum(np.square(im1_mapped_pts[i]-im2_pts[i]))\n",
    "            if ssd_val < epsilon:\n",
    "                inliers.append(i)\n",
    "        if len(inliers) > len(max_inliers):\n",
    "            max_inliers = inliers\n",
    "\n",
    "    # Compute final homography on larget set of inliers found\n",
    "    im1_inliers = im1_pts[max_inliers,:]\n",
    "    im2_inliers = im2_pts[max_inliers,:]\n",
    "    final_H = computeH(im1_inliers, im2_inliers)\n",
    "    return final_H"
   ]
  },
  {
   "cell_type": "code",
   "execution_count": null,
   "id": "811154bd-d6d6-4c37-8d08-3d22b3538a46",
   "metadata": {},
   "outputs": [],
   "source": [
    "def autoH(im1, im2):\n",
    "    H_im1, coords_im1 = get_harris_corners(im1[:,:,0])\n",
    "    H_im2, coords_im2 = get_harris_corners(im2[:,:,0])\n",
    "    im1_ft_pts = ANMS(H_im1, coords_im1)\n",
    "    im2_ft_pts = ANMS(H_im2, coords_im2)\n",
    "    im1_patches = extract_feature_patches(im1,im1_ft_pts)\n",
    "    im2_patches = extract_feature_patches(im2,im2_ft_pts)\n",
    "    im1_pts, im2_pts = matching_outlier_rejection(im1_patches, im2_patches)\n",
    "    H = RANSAC(im1_pts, im2_pts)\n",
    "    return im1_patches, im2_patches, coords_im1, coords_im2, im1_ft_pts, im2_ft_pts, im1_pts, im2_pts, H\n",
    "\n",
    "def autoStitch(im1, im2, H):\n",
    "    warped_images = [im1, warpImage(im2,H)]\n",
    "    \n",
    "    # Project each image onto larger mosaic plane\n",
    "    size_x = max([im.shape[0] for im in warped_images])\n",
    "    size_y = max([im.shape[1] for im in warped_images])\n",
    "    mosaic_ims = []\n",
    "    for im in warped_images:\n",
    "        projected_im = np.zeros((size_x,size_y,3))\n",
    "        projected_im[:im.shape[0],:im.shape[1],:] = im\n",
    "        mosaic_ims.append(projected_im)\n",
    "\n",
    "    # Stitch images\n",
    "    final_mosaic = mosaic_ims[0]\n",
    "    for i in range(1,len(mosaic_ims)):\n",
    "        final_mosaic = gaussian_stitch(final_mosaic, mosaic_ims[i])\n",
    "        \n",
    "    return final_mosaic"
   ]
  },
  {
   "cell_type": "code",
   "execution_count": null,
   "id": "5bc27192-db55-4db7-9f85-cf5fa83b5728",
   "metadata": {},
   "outputs": [],
   "source": [
    "# Auto-stitch DL mosaic\n",
    "DL_left = sk.img_as_float(skio.imread(\"images/DL_left.jpg\"))\n",
    "DL_right = sk.img_as_float(skio.imread(\"images/DL_right.jpg\"))\n",
    "DL_auto = autoH(DL_right, DL_left)\n",
    "DL_mosaic = autoStitch(DL_left, DL_right, DL_auto[-1])"
   ]
  },
  {
   "cell_type": "code",
   "execution_count": null,
   "id": "959fb4ee-7f2d-44a5-844c-87f45bd76784",
   "metadata": {},
   "outputs": [],
   "source": [
    "plt.imshow(DL_mosaic)\n",
    "skio.imsave(\"DL_auto_mosaic.jpg\", sk.img_as_ubyte(DL_mosaic))"
   ]
  },
  {
   "cell_type": "code",
   "execution_count": null,
   "id": "20ecf085-a425-4cc6-8d84-ddafa99975c5",
   "metadata": {},
   "outputs": [],
   "source": [
    "# Auto-stitch campanile mosaic\n",
    "campanile_left = sk.img_as_float(skio.imread(\"images/campanile_left.jpg\"))\n",
    "campanile_middle = sk.img_as_float(skio.imread(\"images/campanile_middle.jpg\"))\n",
    "campanile_auto = autoH(campanile_middle, campanile_left)\n",
    "campanile_mosaic = autoStitch(campanile_left, campanile_middle, campanile_auto[-1])"
   ]
  },
  {
   "cell_type": "code",
   "execution_count": null,
   "id": "ba2f1f4b-6e55-4944-ad2b-e955b73c005c",
   "metadata": {},
   "outputs": [],
   "source": [
    "# Campanile Left Matched Pts\n",
    "plt.figure(figsize=(10,10))\n",
    "plt.imshow(campanile_left)\n",
    "plt.plot(campanile_auto[-2][:,1],campanile_auto[-2][:,0],'ro')"
   ]
  },
  {
   "cell_type": "code",
   "execution_count": null,
   "id": "aa9781f0-9261-466c-a24a-2c360b4362de",
   "metadata": {},
   "outputs": [],
   "source": [
    "# Campanile Middle Matched Pts\n",
    "plt.figure(figsize=(10,10))\n",
    "plt.imshow(campanile_middle)\n",
    "plt.plot(campanile_auto[-3][:,1],campanile_auto[-3][:,0],'ro')"
   ]
  },
  {
   "cell_type": "code",
   "execution_count": null,
   "id": "575d0da3-7927-4f1e-abe4-82d0e5d0bf86",
   "metadata": {},
   "outputs": [],
   "source": [
    "# Campanile Left ANMS Pts\n",
    "plt.figure(figsize=(10,10))\n",
    "plt.imshow(campanile_left)\n",
    "plt.plot(campanile_auto[-4][:,1],campanile_auto[-4][:,0],'ro')"
   ]
  },
  {
   "cell_type": "code",
   "execution_count": null,
   "id": "8839ad09-9eef-4c24-bf89-5b0531263074",
   "metadata": {},
   "outputs": [],
   "source": [
    "# Campanile Middle ANMS Pts\n",
    "plt.figure(figsize=(10,10))\n",
    "plt.imshow(campanile_middle)\n",
    "plt.plot(campanile_auto[-5][:,1],campanile_auto[-5][:,0],'ro')"
   ]
  },
  {
   "cell_type": "code",
   "execution_count": null,
   "id": "b04a8a7c-0c5b-4231-8b14-c09bb396eb02",
   "metadata": {},
   "outputs": [],
   "source": [
    "# Campanile Left Harris Pts\n",
    "plt.figure(figsize=(10,10))\n",
    "plt.imshow(campanile_left)\n",
    "plt.plot(campanile_auto[-6].T[:,1],campanile_auto[-6].T[:,0],'ro')"
   ]
  },
  {
   "cell_type": "code",
   "execution_count": null,
   "id": "29f84edf-0cda-4d0b-a334-129f72d81453",
   "metadata": {},
   "outputs": [],
   "source": [
    "# Campanile Middle Harris Pts\n",
    "plt.figure(figsize=(10,10))\n",
    "plt.imshow(campanile_middle)\n",
    "plt.plot(campanile_auto[-7].T[:,1],campanile_auto[-7].T[:,0],'ro')"
   ]
  },
  {
   "cell_type": "code",
   "execution_count": null,
   "id": "b606c3a2-e38a-4747-9bca-5212697118ab",
   "metadata": {},
   "outputs": [],
   "source": [
    "plt.imshow(campanile_mosaic)\n",
    "skio.imsave(\"campanile_auto_mosaic.jpg\", sk.img_as_ubyte(campanile_mosaic))"
   ]
  },
  {
   "cell_type": "code",
   "execution_count": null,
   "id": "cf116b92-339c-4b60-a28e-a2b141405f89",
   "metadata": {},
   "outputs": [],
   "source": [
    "len(campanile_auto[1])"
   ]
  },
  {
   "cell_type": "code",
   "execution_count": null,
   "id": "9890c2ec-1f61-4d66-ac81-3044c6362057",
   "metadata": {},
   "outputs": [],
   "source": [
    "# Plot feature descriptors for left\n",
    "fig = plt.figure(figsize=(20,20))\n",
    "for i in range(len(campanile_auto[1])):\n",
    "    ft_d = campanile_auto[1][i][-1]\n",
    "    ft_d = (ft_d - np.min(ft_d)) / (np.max(ft_d)-np.min(ft_d))\n",
    "    fig.add_subplot(6,10,i+1)\n",
    "    plt.axis('off')\n",
    "    plt.grid(False)\n",
    "    plt.subplots_adjust(top=0.5, bottom=0.1, left=0.1, right=0.9)\n",
    "    plt.imshow(ft_d)"
   ]
  },
  {
   "cell_type": "code",
   "execution_count": null,
   "id": "f4f3e1bc-e84e-4be9-a0fc-9d9964fb5cae",
   "metadata": {},
   "outputs": [],
   "source": [
    "# Plot feature descriptors for middle\n",
    "fig = plt.figure(figsize=(30,30))\n",
    "for i in range(len(campanile_auto[0])):\n",
    "    ft_d = campanile_auto[0][i][-1]\n",
    "    ft_d = (ft_d - np.min(ft_d)) / (np.max(ft_d)-np.min(ft_d))\n",
    "    fig.add_subplot(10,10,i+1)\n",
    "    plt.axis('off')\n",
    "    plt.grid(False)\n",
    "    plt.subplots_adjust(top=0.5, bottom=0.1, left=0.1, right=0.5)\n",
    "    plt.imshow(ft_d)"
   ]
  },
  {
   "cell_type": "code",
   "execution_count": null,
   "id": "ddc78d9d-02a4-4131-9b8b-35f816b93332",
   "metadata": {},
   "outputs": [],
   "source": [
    "# Auto-stitch Sproul mosaic\n",
    "sproul_left = sk.img_as_float(skio.imread(\"images/sproul_left.jpg\"))\n",
    "sproul_right = sk.img_as_float(skio.imread(\"images/sproul_right.jpg\"))\n",
    "sproul_auto = autoH(sproul_right, sproul_left)\n",
    "sproul_mosaic = autoStitch(sproul_left, sproul_right, sproul_auto[-1])"
   ]
  },
  {
   "cell_type": "code",
   "execution_count": null,
   "id": "ee9b827d-d0a0-4889-8a97-2e7680bd455c",
   "metadata": {},
   "outputs": [],
   "source": [
    "plt.imshow(sproul_mosaic)\n",
    "skio.imsave(\"sproul_auto_mosaic.jpg\", sk.img_as_ubyte(sproul_mosaic))"
   ]
  },
  {
   "cell_type": "code",
   "execution_count": null,
   "id": "daa63896-8734-4697-bb0f-8b9d4975afe6",
   "metadata": {},
   "outputs": [],
   "source": []
  },
  {
   "cell_type": "code",
   "execution_count": null,
   "id": "d93c7d7c-2d72-4736-958d-da8937da650d",
   "metadata": {},
   "outputs": [],
   "source": []
  }
 ],
 "metadata": {
  "kernelspec": {
   "display_name": "Python 3 (ipykernel)",
   "language": "python",
   "name": "python3"
  },
  "language_info": {
   "codemirror_mode": {
    "name": "ipython",
    "version": 3
   },
   "file_extension": ".py",
   "mimetype": "text/x-python",
   "name": "python",
   "nbconvert_exporter": "python",
   "pygments_lexer": "ipython3",
   "version": "3.11.4"
  }
 },
 "nbformat": 4,
 "nbformat_minor": 5
}
