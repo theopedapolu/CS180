{
 "cells": [
  {
   "cell_type": "code",
   "execution_count": null,
   "id": "8cf8c90e-423b-4f5f-bb68-b62014d4deb1",
   "metadata": {},
   "outputs": [],
   "source": [
    "import os\n",
    "import cv2\n",
    "import numpy as np\n",
    "import scipy as sp\n",
    "import matplotlib.pyplot as plt\n",
    "import skimage as sk\n",
    "import skimage.io as skio\n",
    "import json"
   ]
  },
  {
   "cell_type": "code",
   "execution_count": null,
   "id": "146744ea-c47d-47c2-b80b-e7f507c82244",
   "metadata": {},
   "outputs": [],
   "source": [
    "# Import images\n",
    "theo = sk.img_as_float(np.array(skio.imread(\"theo_nobg.png\")))[:,:,:-1]\n",
    "magnus = sk.img_as_float(np.array(skio.imread(\"magnus_nobg.png\")))[:,:,:-1]\n",
    "figure,axes = plt.subplots(2)\n",
    "axes[0].imshow(theo)\n",
    "axes[1].imshow(magnus)\n",
    "plt.show()"
   ]
  },
  {
   "cell_type": "markdown",
   "id": "ed777e63-c707-428e-8718-13e4120542c6",
   "metadata": {},
   "source": [
    "# Defining Correspondences"
   ]
  },
  {
   "cell_type": "code",
   "execution_count": null,
   "id": "e836f3eb-7fdc-4058-b1e3-a6bcc1a8c140",
   "metadata": {},
   "outputs": [],
   "source": [
    "f = open(\"theo_magnus.json\")\n",
    "points = json.load(f)\n",
    "theo_points = np.array(points['im1Points'])\n",
    "theo_points[:,[0,1]] = theo_points[:,[1,0]]\n",
    "magnus_points = np.array(points['im2Points'])\n",
    "magnus_points[:,[0,1]] = magnus_points[:,[1,0]]"
   ]
  },
  {
   "cell_type": "code",
   "execution_count": null,
   "id": "68fa7142-5fe0-4e6f-a655-7e42e2f28cf4",
   "metadata": {},
   "outputs": [],
   "source": [
    "avg_points = 0.5*theo_points + 0.5*magnus_points  \n",
    "triangulation = sp.spatial.Delaunay(avg_points)"
   ]
  },
  {
   "cell_type": "code",
   "execution_count": null,
   "id": "7836f22c-e2d9-4d4e-8c2a-84fb605071e3",
   "metadata": {},
   "outputs": [],
   "source": [
    "#plt.figure(figsize = (1,1))\n",
    "plt.imshow(theo)\n",
    "plt.triplot(theo_points[:,1],theo_points[:,0],triangulation.simplices)\n",
    "plt.plot(theo_points[:,1],theo_points[:,0],'o')\n",
    "plt.show()"
   ]
  },
  {
   "cell_type": "code",
   "execution_count": null,
   "id": "83f3abc1-698f-4e27-bc1e-58980c502f30",
   "metadata": {},
   "outputs": [],
   "source": [
    "plt.imshow(theo)\n",
    "plt.triplot(avg_points[:,1],avg_points[:,0],triangulation.simplices)\n",
    "plt.plot(avg_points[:,1],avg_points[:,0],'o')\n",
    "plt.show()"
   ]
  },
  {
   "cell_type": "code",
   "execution_count": null,
   "id": "5a362903-0fab-4287-aa74-120c6da3675d",
   "metadata": {},
   "outputs": [],
   "source": [
    "plt.imshow(magnus)\n",
    "plt.triplot(magnus_points[:,1],magnus_points[:,0],triangulation.simplices)\n",
    "plt.plot(magnus_points[:,1],magnus_points[:,0],'o')\n",
    "plt.show()"
   ]
  },
  {
   "cell_type": "code",
   "execution_count": null,
   "id": "8b7ae3eb-a79d-4056-ac7e-8549ad1f2944",
   "metadata": {},
   "outputs": [],
   "source": [
    "plt.imshow(magnus)\n",
    "plt.triplot(avg_points[:,1],avg_points[:,0],triangulation.simplices)\n",
    "plt.plot(avg_points[:,1],avg_points[:,0],'o')\n",
    "plt.show()"
   ]
  },
  {
   "cell_type": "markdown",
   "id": "8872a43c-ad56-4368-867d-f8624a6aa215",
   "metadata": {},
   "source": [
    "# Computing the Mid-way Face"
   ]
  },
  {
   "cell_type": "code",
   "execution_count": null,
   "id": "9a98f006-0a4f-4a68-a84a-b017e5475c5a",
   "metadata": {},
   "outputs": [],
   "source": [
    "def computeInverseAffine(tri1,tri2):\n",
    "    mat1 = np.hstack((tri1, [[1],[1],[1]]))\n",
    "    mat2 = np.hstack((tri2, [[1],[1],[1]]))\n",
    "    return np.linalg.solve(mat2,mat1)"
   ]
  },
  {
   "cell_type": "code",
   "execution_count": null,
   "id": "45c5072b-60b8-441a-96c7-5bcd8fd83952",
   "metadata": {},
   "outputs": [],
   "source": [
    "def warp(orig_img, orig_triangles, target_triangles):\n",
    "    warp_img = np.ones(orig_img.shape)\n",
    "    img_points = np.array(list(np.ndindex(orig_img[:,:,0].shape)))\n",
    "    img_vals = np.array(list(zip(orig_img[:,:,0].flatten(),orig_img[:,:,1].flatten(),orig_img[:,:,2].flatten())))\n",
    "    \n",
    "    for orig_tri, target_tri in zip(orig_triangles, target_triangles):\n",
    "        transform_matrix = computeInverseAffine(orig_tri, target_tri)\n",
    "        target_points = np.vstack(sk.draw.polygon(target_tri[:,0], target_tri[:,1])).T\n",
    "        target_transform = (np.hstack((target_points,np.ones((target_points.shape[0],1)))) @ transform_matrix)[:,:2]\n",
    "        data = sp.interpolate.griddata(img_points, img_vals, target_transform, method=\"nearest\")\n",
    "        #print(target_points)\n",
    "        for j in range(target_points.shape[0]):\n",
    "            x,y = target_points[j]\n",
    "            warp_img[x,y] = data[j]\n",
    "    return warp_img                \n",
    "                "
   ]
  },
  {
   "cell_type": "code",
   "execution_count": null,
   "id": "42df7d3f-7851-4772-9a22-119fc1528a8c",
   "metadata": {},
   "outputs": [],
   "source": [
    "theo_triangles = theo_points[triangulation.simplices]\n",
    "magnus_triangles = magnus_points[triangulation.simplices]\n",
    "avg_triangles = avg_points[triangulation.simplices]\n",
    "theo_to_avg_warp = warp(theo, theo_triangles, avg_triangles)\n",
    "magnus_to_avg_warp = warp(magnus, magnus_triangles, avg_triangles)"
   ]
  },
  {
   "cell_type": "code",
   "execution_count": null,
   "id": "0cf5e29f-0141-4868-9390-7c92b060c594",
   "metadata": {},
   "outputs": [],
   "source": [
    "plt.imshow(theo_to_avg_warp)\n",
    "skio.imsave(\"theo_warped_midway.jpg\", sk.img_as_ubyte(theo_to_avg_warp))"
   ]
  },
  {
   "cell_type": "code",
   "execution_count": null,
   "id": "436049ad-68dc-4f72-bc6e-569f19dc7b0f",
   "metadata": {},
   "outputs": [],
   "source": [
    "mid = 0.5*theo_to_avg_warp + 0.5*magnus_to_avg_warp\n",
    "plt.imshow(mid)\n",
    "skio.imsave(\"theo_magnus_midway.jpg\", sk.img_as_ubyte(mid))"
   ]
  },
  {
   "cell_type": "code",
   "execution_count": null,
   "id": "36c50497-0b4a-4dd7-8bc2-065be7c49e07",
   "metadata": {},
   "outputs": [],
   "source": [
    "plt.imshow(magnus_to_avg_warp)\n",
    "skio.imsave(\"magnus_warped_midway.jpg\", sk.img_as_ubyte(magnus_to_avg_warp))"
   ]
  },
  {
   "cell_type": "markdown",
   "id": "7440d037-5bf5-4db8-99c2-1b5fde30d061",
   "metadata": {},
   "source": [
    "# Morphing Sequence"
   ]
  },
  {
   "cell_type": "code",
   "execution_count": null,
   "id": "e30baa19-0646-494b-9d10-aa8030d2c367",
   "metadata": {},
   "outputs": [],
   "source": [
    "def morph(im1,im2,im1_pts,im2_pts,tri,warp_frac,dissolve_frac):\n",
    "    warped_points = (1-warp_frac)*im1_pts + warp_frac*im2_pts\n",
    "    im1_warp = warp(im1,im1_pts[tri],warped_points[tri])\n",
    "    im2_warp = warp(im2,im2_pts[tri],warped_points[tri])\n",
    "    dissolved = (1-dissolve_frac)*im1_warp + dissolve_frac*im2_warp\n",
    "    return dissolved"
   ]
  },
  {
   "cell_type": "code",
   "execution_count": null,
   "id": "9add8ad2-8c07-4e9b-9c4c-b7e52d3c96ec",
   "metadata": {},
   "outputs": [],
   "source": [
    "def morph_sequence(im1,im2,im1_pts,im2_pts, filename):\n",
    "    avg_pts = 0.5*im1_pts + 0.5*im2_pts\n",
    "    tri = sp.spatial.Delaunay(avg_pts).simplices\n",
    "    \n",
    "    num_frames = 50\n",
    "    parameters = np.linspace(0,1,num = num_frames)\n",
    "    total = 0\n",
    "    for p in parameters:\n",
    "        im_morphed = morph(im1,im2,im1_pts,im2_pts,tri,p,p)\n",
    "        fname = \"{}_{}.jpg\".format(filename, str(total))\n",
    "        print(\"Saving \" + fname)\n",
    "        skio.imsave(fname, sk.img_as_ubyte(im_morphed))\n",
    "        total += 1"
   ]
  },
  {
   "cell_type": "code",
   "execution_count": null,
   "id": "8c11e2f7-2b33-4fcf-b210-1c5eba4b5f89",
   "metadata": {},
   "outputs": [],
   "source": [
    "morph_sequence(theo,magnus,theo_points,magnus_points, \"theo_magnus\")"
   ]
  },
  {
   "cell_type": "code",
   "execution_count": null,
   "id": "c5eabbbe-95cd-44a0-b3f5-b3a891e9474c",
   "metadata": {},
   "outputs": [],
   "source": [
    "def make_video(name, images):\n",
    "    video_writer = cv2.VideoWriter(name, cv2.VideoWriter_fourcc(*'mp4v'),15,(images[0].shape[1], images[0].shape[0]))\n",
    "    for im in images:\n",
    "        video_writer.write(im)\n",
    "    video_writer.release()    "
   ]
  },
  {
   "cell_type": "code",
   "execution_count": null,
   "id": "0aa3050a-5a28-4071-b176-f100d1ee9fc6",
   "metadata": {},
   "outputs": [],
   "source": [
    "images = []\n",
    "for i in range(50):\n",
    "    img = cv2.imread(\"./theo_to_magnus_nobg/theo_magnus_\" + str(i) + \".jpg\")\n",
    "    images.append(img)\n",
    "make_video(\"theo_to_magnus.mp4\", images + list(reversed(images)))    "
   ]
  },
  {
   "cell_type": "markdown",
   "id": "27b47420-8901-4ee8-8d98-357d042fc86a",
   "metadata": {},
   "source": [
    "# Mean Face of Population"
   ]
  },
  {
   "cell_type": "code",
   "execution_count": null,
   "id": "25f4cd4f-7554-4f25-b4e8-be7754529a96",
   "metadata": {},
   "outputs": [],
   "source": [
    "img = sk.img_as_float(skio.imread(\"./dane_faces/33-1m.jpg\"))\n",
    "width = img.shape[1]\n",
    "height = img.shape[0]\n",
    "# f = open(\"./dane_faces/33-1m.asf\",'r')\n",
    "# txt = f.read()\n",
    "# data = np.array([s.split('\\t') for s in txt.split('\\n')[16:-6]])[:,2:4].astype(float)\n",
    "# data[:,0], data[:,1] = data[:,0]*width, data[:,1]*height\n",
    "# data = np.round(data).astype(int)\n",
    "# data = np.vstack([data, [0,0], [0,height-1],[width-1,0], [width-1,height-1]])"
   ]
  },
  {
   "cell_type": "code",
   "execution_count": null,
   "id": "0c21ad87-cdf4-48e1-8b5b-b01a83203893",
   "metadata": {},
   "outputs": [],
   "source": [
    "# Collect correspondence points for each image\n",
    "corr_pts = {}\n",
    "for filename in os.listdir(\"./dane_faces\"):\n",
    "    if filename.endswith(\"1m.asf\") or filename.endswith(\"1f.asf\"):\n",
    "        f = open(\"./dane_faces/\" + filename,'r')\n",
    "        txt = f.read()\n",
    "        data = np.array([s.split('\\t') for s in txt.split('\\n')[16:-6]])[:,2:4].astype(float)\n",
    "        data[:,0], data[:,1] = data[:,0]*width, data[:,1]*height\n",
    "        data = np.round(data).astype(int)\n",
    "        data = np.vstack([data, [0,0], [0,height-1],[width-1,0], [width-1,height-1]])\n",
    "        # Switch columns\n",
    "        data[:,[0,1]] = data[:,[1,0]]\n",
    "        corr_pts[filename[:-4]] = data\n",
    "\n",
    "# Find average shape\n",
    "danes_avg_shape = np.mean([corr_pts[filename] for filename in corr_pts.keys()],0)\n",
    "danes_avg_shape = np.round(danes_avg_shape).astype(int)"
   ]
  },
  {
   "cell_type": "code",
   "execution_count": null,
   "id": "1096fe16-1c6f-48c4-944c-1a1f8fcf3b74",
   "metadata": {},
   "outputs": [],
   "source": [
    "danes_avg_tri = sp.spatial.Delaunay(danes_avg_shape)"
   ]
  },
  {
   "cell_type": "code",
   "execution_count": null,
   "id": "2e3cc62b-b520-46a5-9f5c-283641b05f6d",
   "metadata": {},
   "outputs": [],
   "source": [
    "plt.imshow(img)\n",
    "plt.triplot(danes_avg_shape[:,1],danes_avg_shape[:,0],danes_avg_tri.simplices)\n",
    "plt.plot(danes_avg_shape[:,1],danes_avg_shape[:,0],'o')\n",
    "plt.show()"
   ]
  },
  {
   "cell_type": "code",
   "execution_count": null,
   "id": "674dce80-ceb3-4abf-87b0-ae06a86dc87e",
   "metadata": {},
   "outputs": [],
   "source": [
    "triangles = corr_pts[\"33-1m\"][danes_avg_tri.simplices]\n",
    "im_warp = warp(img, triangles, danes_avg_shape[danes_avg_tri.simplices])\n",
    "plt.imshow(im_warp)"
   ]
  },
  {
   "cell_type": "markdown",
   "id": "0de33e31-2bba-4f2e-8f92-ca27318cf83b",
   "metadata": {},
   "source": [
    "## Morph each face into the average face"
   ]
  },
  {
   "cell_type": "code",
   "execution_count": null,
   "id": "1b1c4a02-3d1a-4074-9578-c55a219b7796",
   "metadata": {},
   "outputs": [],
   "source": [
    "if not os.path.isdir(\"warped_danes\"):\n",
    "    os.mkdir(\"warped_danes\")"
   ]
  },
  {
   "cell_type": "code",
   "execution_count": null,
   "id": "b820c45c-a52d-4f5a-868d-f4d15c74ebf2",
   "metadata": {},
   "outputs": [],
   "source": [
    "for filename in os.listdir(\"./dane_faces\"):\n",
    "    if filename.endswith(\"1m.jpg\") or filename.endswith(\"1f.jpg\"):\n",
    "        dane_img = sk.img_as_float(skio.imread(\"./dane_faces/\" + filename))\n",
    "        dane_tris = corr_pts[filename[:-4]][danes_avg_tri.simplices]\n",
    "        dane_warp = warp(dane_img, dane_tris, danes_avg_shape[danes_avg_tri.simplices])\n",
    "        print(\"Saving Warped \" + filename)\n",
    "        fname = \"warped_danes/\" + filename[:-4] + \"_warped.jpg\"\n",
    "        plt.imsave(fname, sk.img_as_ubyte(dane_warp))"
   ]
  },
  {
   "cell_type": "code",
   "execution_count": null,
   "id": "ea5226df-1d84-4034-be23-e7a3b27675e9",
   "metadata": {},
   "outputs": [],
   "source": [
    "# Compute average face\n",
    "warped_faces = []\n",
    "for filename in os.listdir(\"./warped_danes\"):\n",
    "    if filename.endswith(\".jpg\"):\n",
    "        img = sk.img_as_float(skio.imread(\"./warped_danes/\" + filename))\n",
    "        warped_faces.append(img)\n",
    "average_dane_face = np.mean(warped_faces,0)"
   ]
  },
  {
   "cell_type": "code",
   "execution_count": null,
   "id": "812ddc88-eeb6-4e51-ad92-c7606f224618",
   "metadata": {},
   "outputs": [],
   "source": [
    "fig, axes = plt.subplots(5,8, figsize = (25,13), constrained_layout=True)\n",
    "count = 0\n",
    "for i in range(5):\n",
    "    for j in range(8):\n",
    "        #axes[i][j] = fig.add_subplot(gs[r,c[)\n",
    "        axes[i][j].imshow(warped_faces[count])\n",
    "        axes[i][j].axis('off')\n",
    "        axes[i][j].set_aspect('auto')\n",
    "        count += 1\n",
    "plt.show()        "
   ]
  },
  {
   "cell_type": "code",
   "execution_count": null,
   "id": "f8f61131-dc57-4899-a9e1-1286e947318a",
   "metadata": {},
   "outputs": [],
   "source": [
    "dane_faces = []\n",
    "for filename in os.listdir(\"./dane_faces\"):\n",
    "    if filename.endswith(\"1m.jpg\") or filename.endswith(\"1f.jpg\"):\n",
    "        dane_img = sk.img_as_float(skio.imread(\"./dane_faces/\" + filename))\n",
    "        dane_faces.append(dane_img)"
   ]
  },
  {
   "cell_type": "code",
   "execution_count": null,
   "id": "343bcde4-48cf-4c0f-b794-0f610c8666fc",
   "metadata": {},
   "outputs": [],
   "source": [
    "\n",
    "fig, axes = plt.subplots(5,8, figsize = (25,13), constrained_layout=True)\n",
    "count = 0\n",
    "for i in range(5):\n",
    "    for j in range(8):\n",
    "        axes[i][j].imshow(dane_faces[count])\n",
    "        axes[i][j].axis('off')\n",
    "        axes[i][j].set_aspect('auto')\n",
    "        count += 1\n",
    "plt.show()  "
   ]
  },
  {
   "cell_type": "code",
   "execution_count": null,
   "id": "741976c4-8aa3-4e32-88ea-6cddd0b34a60",
   "metadata": {},
   "outputs": [],
   "source": [
    "skio.imsave(\"dane1.jpg\", sk.img_as_ubyte(dane_faces[0]))\n",
    "skio.imsave(\"dane1_warped.jpg\", sk.img_as_ubyte(warped_faces[0]))"
   ]
  },
  {
   "cell_type": "code",
   "execution_count": null,
   "id": "bb91204f-9c19-4e99-9e2e-323f02ddb2a4",
   "metadata": {},
   "outputs": [],
   "source": [
    "skio.imsave(\"dane2.jpg\", sk.img_as_ubyte(dane_faces[29]))\n",
    "skio.imsave(\"dane2_warped.jpg\", sk.img_as_ubyte(warped_faces[29]))"
   ]
  },
  {
   "cell_type": "code",
   "execution_count": null,
   "id": "a1491319-8ce3-47e6-95f9-2934fff5f496",
   "metadata": {},
   "outputs": [],
   "source": [
    "plt.imshow(average_dane_face)\n",
    "skio.imsave(\"average_dane_face.jpg\", sk.img_as_ubyte(average_dane_face))"
   ]
  },
  {
   "cell_type": "code",
   "execution_count": null,
   "id": "0327e62f-6c45-442a-ab8b-b95067b46a97",
   "metadata": {},
   "outputs": [],
   "source": [
    "plt.imshow(average_dane_face)\n",
    "plt.triplot(danes_avg_shape[:,1],danes_avg_shape[:,0],danes_avg_tri.simplices)\n",
    "plt.plot(danes_avg_shape[:,1],danes_avg_shape[:,0],'o')\n",
    "# for i,point in enumerate(danes_avg_shape):\n",
    "#     plt.annotate(str(i+1),(point[1],point[0]), color='white', fontsize=5,\n",
    "#                  ha='center', va='center', weight='bold')\n",
    "plt.show()"
   ]
  },
  {
   "cell_type": "markdown",
   "id": "26ee2f29-ade4-4844-9a08-4bec6fa17c38",
   "metadata": {},
   "source": [
    "## Warp my face into average shape and vice versa"
   ]
  },
  {
   "cell_type": "code",
   "execution_count": null,
   "id": "c9c82883-1838-4215-8ca9-3ff6a475cf81",
   "metadata": {},
   "outputs": [],
   "source": [
    "theop = sk.img_as_float(skio.imread(\"theop.jpg\"))\n",
    "theop_pts = np.array(json.load(open(\"dane_theop.json\"))['im2Points'])\n",
    "theop_pts[:,[0,1]] = theop_pts[:,[1,0]]\n",
    "theop_tri = sp.spatial.Delaunay(theop_pts)\n",
    "plt.imshow(theop)"
   ]
  },
  {
   "cell_type": "code",
   "execution_count": null,
   "id": "249074a6-b250-41be-ba71-91c90121fa2b",
   "metadata": {},
   "outputs": [],
   "source": [
    "plt.imshow(theop)\n",
    "plt.triplot(danes_avg_shape[:,1],danes_avg_shape[:,0],danes_avg_tri.simplices)\n",
    "plt.plot(danes_avg_shape[:,1],danes_avg_shape[:,0],'o')\n",
    "for i,point in enumerate(danes_avg_shape):\n",
    "    plt.annotate(str(i+1),(point[1],point[0]), color='white', fontsize=5,\n",
    "                 ha='center', va='center', weight='bold')\n",
    "plt.show()"
   ]
  },
  {
   "cell_type": "code",
   "execution_count": null,
   "id": "eb29b59b-0eca-4fa9-a941-442232f62fcb",
   "metadata": {},
   "outputs": [],
   "source": [
    "theop_pts.shape"
   ]
  },
  {
   "cell_type": "code",
   "execution_count": null,
   "id": "a3d23629-3acc-4cd1-9bdd-dbebfa48a273",
   "metadata": {},
   "outputs": [],
   "source": [
    "theop_to_avg = warp(theop, theop_pts[danes_avg_tri.simplices], danes_avg_shape[danes_avg_tri.simplices])"
   ]
  },
  {
   "cell_type": "code",
   "execution_count": null,
   "id": "87126869-4f28-4783-b491-94433a717d4b",
   "metadata": {},
   "outputs": [],
   "source": [
    "plt.imshow(theop_to_avg)\n",
    "skio.imsave(\"theop_to-avg.jpg\",sk.img_as_ubyte(theop_to_avg))"
   ]
  },
  {
   "cell_type": "code",
   "execution_count": null,
   "id": "69c6c7f1-6160-48cf-bcbe-5b40f971e692",
   "metadata": {},
   "outputs": [],
   "source": [
    "# Avg Face to my geometry\n",
    "avg_to_theop = warp(average_dane_face, danes_avg_shape[theop_tri.simplices], theop_pts[theop_tri.simplices])"
   ]
  },
  {
   "cell_type": "code",
   "execution_count": null,
   "id": "443e6c65-229e-4ec0-9ebb-c2a6fe8515b2",
   "metadata": {},
   "outputs": [],
   "source": [
    "plt.imshow(avg_to_theop)\n",
    "skio.imsave(\"avg_to_theop.jpg\", sk.img_as_ubyte(avg_to_theop))"
   ]
  },
  {
   "cell_type": "markdown",
   "id": "03bb7646-cabe-4c95-bd77-f7b183834a51",
   "metadata": {},
   "source": [
    "# Caricature (Extrapolate from population mean)"
   ]
  },
  {
   "cell_type": "code",
   "execution_count": null,
   "id": "f54e63ef-4207-4f45-9336-711434707f6e",
   "metadata": {},
   "outputs": [],
   "source": [
    "diff = theop_pts - danes_avg_shape\n",
    "newShape = theop_pts + 1*diff\n",
    "newShape_tri = sp.spatial.Delaunay(newShape)\n",
    "caricature = warp(theop, theop_pts[newShape_tri.simplices], newShape[newShape_tri.simplices])"
   ]
  },
  {
   "cell_type": "code",
   "execution_count": null,
   "id": "f36c2100-0ae3-4bd4-80dd-9a9aea32edd1",
   "metadata": {},
   "outputs": [],
   "source": [
    "plt.imshow(caricature)\n",
    "skio.imsave(\"theop_caricature.jpg\",sk.img_as_ubyte(caricature))"
   ]
  },
  {
   "cell_type": "markdown",
   "id": "5e1385d7-546c-43d9-b370-f6a18c87de04",
   "metadata": {},
   "source": [
    "# Bells and Whistles"
   ]
  },
  {
   "cell_type": "code",
   "execution_count": null,
   "id": "d21b639c-ae44-41cd-ac42-f74e9699b937",
   "metadata": {},
   "outputs": [],
   "source": [
    "# Import images\n",
    "theo = sk.img_as_float(np.array(skio.imread(\"theo_crop.jpg\")))\n",
    "woman = sk.img_as_float(np.array(skio.imread(\"woman.jpg\")))\n",
    "figure,axes = plt.subplots(2)\n",
    "axes[0].imshow(theo)\n",
    "axes[1].imshow(woman)\n",
    "plt.show()"
   ]
  },
  {
   "cell_type": "code",
   "execution_count": null,
   "id": "257469a0-19d4-4adb-be1d-812eb1674389",
   "metadata": {},
   "outputs": [],
   "source": [
    "f = open(\"theo_crop_woman.json\")\n",
    "points = json.load(f)\n",
    "theo_points = np.array(points['im1Points'])\n",
    "theo_points[:,[0,1]] = theo_points[:,[1,0]]\n",
    "woman_points = np.array(points['im2Points'])\n",
    "woman_points[:,[0,1]] = woman_points[:,[1,0]]"
   ]
  },
  {
   "cell_type": "code",
   "execution_count": null,
   "id": "72110a79-c614-4663-bba0-faebd7ca8c48",
   "metadata": {},
   "outputs": [],
   "source": [
    "theo_tri = sp.spatial.Delaunay(woman_points)\n",
    "woman_tri = sp.spatial.Delaunay(theo_points)"
   ]
  },
  {
   "cell_type": "code",
   "execution_count": null,
   "id": "40dbc4cb-27e4-4c78-9365-ab3737766ac8",
   "metadata": {},
   "outputs": [],
   "source": [
    "plt.imshow(theo)\n",
    "plt.triplot(theo_points[:,1],theo_points[:,0],theo_tri.simplices)\n",
    "plt.plot(theo_points[:,1],theo_points[:,0],'o')\n",
    "plt.show()"
   ]
  },
  {
   "cell_type": "code",
   "execution_count": null,
   "id": "19f52425-93a4-4f09-a1b3-3d651d1d17fc",
   "metadata": {},
   "outputs": [],
   "source": [
    "plt.imshow(woman)\n",
    "plt.triplot(woman_points[:,1],woman_points[:,0],woman_tri.simplices)\n",
    "plt.plot(woman_points[:,1],woman_points[:,0],'o')\n",
    "plt.show()"
   ]
  },
  {
   "cell_type": "code",
   "execution_count": null,
   "id": "37da9638-8f52-4cb9-aeb5-113a6cde8e9a",
   "metadata": {},
   "outputs": [],
   "source": [
    "# Change shape\n",
    "theo_to_woman_shape = warp(theo, theo_points[woman_tri.simplices], woman_points[woman_tri.simplices])\n",
    "plt.imshow(theo_to_woman_shape)"
   ]
  },
  {
   "cell_type": "code",
   "execution_count": null,
   "id": "0c686604-ef65-417f-a341-7ada1122ed60",
   "metadata": {},
   "outputs": [],
   "source": [
    "skio.imsave(\"theo_woman_shape.jpg\", sk.img_as_ubyte(theo_to_woman_shape))"
   ]
  },
  {
   "cell_type": "code",
   "execution_count": null,
   "id": "afc35fb8-4719-4af2-9960-fb4a1fd57c2a",
   "metadata": {},
   "outputs": [],
   "source": [
    "# Change appearance\n",
    "#woman_to_theo = warp(woman, woman_points[theo_tri.simplices], theo_points[theo_tri.simplices])\n",
    "theo_to_woman_appearance = 0.3*theo + 0.7*woman_to_theo\n",
    "plt.imshow(theo_to_woman_appearance)"
   ]
  },
  {
   "cell_type": "code",
   "execution_count": null,
   "id": "639a894b-3791-4c65-b9bd-f7cac60c06ca",
   "metadata": {},
   "outputs": [],
   "source": [
    "skio.imsave(\"theo_to_woman_appearance.jpg\", sk.img_as_ubyte(theo_to_woman_appearance))"
   ]
  },
  {
   "cell_type": "code",
   "execution_count": null,
   "id": "1060dc47-aa9e-4e1f-b8e8-9f521fc8caed",
   "metadata": {},
   "outputs": [],
   "source": [
    "# Change both\n",
    "theo_to_woman = morph(theo,woman,theo_points, woman_points,theo_tri.simplices,0.75,0.5)\n",
    "plt.imshow(theo_to_woman)\n",
    "skio.imsave(\"theo_to_woman.jpg\", sk.img_as_ubyte(theo_to_woman))"
   ]
  },
  {
   "cell_type": "code",
   "execution_count": null,
   "id": "fc1e2b4f-8427-48b5-999a-a9dc7d09d062",
   "metadata": {},
   "outputs": [],
   "source": []
  }
 ],
 "metadata": {
  "kernelspec": {
   "display_name": "Python 3 (ipykernel)",
   "language": "python",
   "name": "python3"
  },
  "language_info": {
   "codemirror_mode": {
    "name": "ipython",
    "version": 3
   },
   "file_extension": ".py",
   "mimetype": "text/x-python",
   "name": "python",
   "nbconvert_exporter": "python",
   "pygments_lexer": "ipython3",
   "version": "3.11.4"
  }
 },
 "nbformat": 4,
 "nbformat_minor": 5
}
